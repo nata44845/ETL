{
 "cells": [
  {
   "cell_type": "markdown",
   "id": "d6d9fc69-d82a-49ed-ba8d-cbbe89031d2c",
   "metadata": {},
   "source": [
    "## Домашняя работа 2\n",
    "\n",
    "1. Скачайте датасет fifаs2.сsv. Проанализируйте его и определите, какие данные являются неполными. Удалите\n",
    "ненужные колонки и недостающие значения.\n",
    "\n",
    "2. Найдите в датафрейме полные дубликаты и удалите их. Значения могут быть одинаковыми, но написаны по-разному. Например, может отличаться размер регистра (заглавные и строчные буквы). Особое внимание уделить колонке с названиями команд.\n",
    "\n",
    "3. Напишите функцию, которая добавит колонку с разбиением возраста по группам: до 20, от 20 до 30, от 30 до\n",
    "36 и старше 36. Посчитайте количество футболистов в каждой категории."
   ]
  },
  {
   "cell_type": "code",
   "execution_count": 205,
   "id": "5958e97c-86e3-4b7b-8b74-899443717aec",
   "metadata": {},
   "outputs": [],
   "source": [
    "import pandas as pd\n",
    "import numpy as np\n",
    "import matplotlib.pyplot as plt"
   ]
  },
  {
   "cell_type": "code",
   "execution_count": 1,
   "id": "021b27bc-355b-41cc-bbf2-420f91861bd3",
   "metadata": {},
   "outputs": [
    {
     "ename": "NameError",
     "evalue": "name 'pd' is not defined",
     "output_type": "error",
     "traceback": [
      "\u001b[1;31m---------------------------------------------------------------------------\u001b[0m",
      "\u001b[1;31mNameError\u001b[0m                                 Traceback (most recent call last)",
      "Cell \u001b[1;32mIn[1], line 1\u001b[0m\n\u001b[1;32m----> 1\u001b[0m df \u001b[38;5;241m=\u001b[39m \u001b[43mpd\u001b[49m\u001b[38;5;241m.\u001b[39mread_csv(\u001b[38;5;124m'\u001b[39m\u001b[38;5;124mfifa_s2.csv\u001b[39m\u001b[38;5;124m'\u001b[39m)\n\u001b[0;32m      2\u001b[0m df\u001b[38;5;241m.\u001b[39mhead()\n",
      "\u001b[1;31mNameError\u001b[0m: name 'pd' is not defined"
     ]
    }
   ],
   "source": [
    "df = pd.read_csv('fifa_s2.csv')\n",
    "df.head()"
   ]
  },
  {
   "cell_type": "code",
   "execution_count": 208,
   "id": "0e073fba-904b-4c6d-a800-5befb0177d11",
   "metadata": {},
   "outputs": [
    {
     "name": "stdout",
     "output_type": "stream",
     "text": [
      "<class 'pandas.core.frame.DataFrame'>\n",
      "RangeIndex: 2399 entries, 0 to 2398\n",
      "Data columns (total 18 columns):\n",
      " #   Column                    Non-Null Count  Dtype  \n",
      "---  ------                    --------------  -----  \n",
      " 0   ID                        2399 non-null   int64  \n",
      " 1   Name                      2399 non-null   object \n",
      " 2   Age                       2399 non-null   int64  \n",
      " 3   Nationality               2392 non-null   object \n",
      " 4   Overall                   2399 non-null   int64  \n",
      " 5   Potential                 2399 non-null   int64  \n",
      " 6   Club                      2158 non-null   object \n",
      " 7   Value                     2142 non-null   float64\n",
      " 8   Wage                      2399 non-null   int64  \n",
      " 9   Preferred Foot            2399 non-null   object \n",
      " 10  International Reputation  2389 non-null   float64\n",
      " 11  Skill Moves               2393 non-null   float64\n",
      " 12  Position                  2378 non-null   object \n",
      " 13  Joined                    2399 non-null   int64  \n",
      " 14  Contract Valid Until      2126 non-null   object \n",
      " 15  Height                    2399 non-null   float64\n",
      " 16  Weight                    2399 non-null   float64\n",
      " 17  Release Clause            2396 non-null   float64\n",
      "dtypes: float64(6), int64(6), object(6)\n",
      "memory usage: 337.5+ KB\n"
     ]
    }
   ],
   "source": [
    "df.info()"
   ]
  },
  {
   "cell_type": "code",
   "execution_count": 207,
   "id": "27214b73-26f3-403a-833b-8238b7e53e89",
   "metadata": {},
   "outputs": [
    {
     "data": {
      "text/html": [
       "<div>\n",
       "<style scoped>\n",
       "    .dataframe tbody tr th:only-of-type {\n",
       "        vertical-align: middle;\n",
       "    }\n",
       "\n",
       "    .dataframe tbody tr th {\n",
       "        vertical-align: top;\n",
       "    }\n",
       "\n",
       "    .dataframe thead th {\n",
       "        text-align: right;\n",
       "    }\n",
       "</style>\n",
       "<table border=\"1\" class=\"dataframe\">\n",
       "  <thead>\n",
       "    <tr style=\"text-align: right;\">\n",
       "      <th></th>\n",
       "      <th>ID</th>\n",
       "      <th>Age</th>\n",
       "      <th>Overall</th>\n",
       "      <th>Potential</th>\n",
       "      <th>Value</th>\n",
       "      <th>Wage</th>\n",
       "      <th>International Reputation</th>\n",
       "      <th>Skill Moves</th>\n",
       "      <th>Joined</th>\n",
       "      <th>Height</th>\n",
       "      <th>Weight</th>\n",
       "      <th>Release Clause</th>\n",
       "    </tr>\n",
       "  </thead>\n",
       "  <tbody>\n",
       "    <tr>\n",
       "      <th>count</th>\n",
       "      <td>2399.000000</td>\n",
       "      <td>2399.000000</td>\n",
       "      <td>2399.000000</td>\n",
       "      <td>2399.000000</td>\n",
       "      <td>2142.000000</td>\n",
       "      <td>2399.000000</td>\n",
       "      <td>2389.000000</td>\n",
       "      <td>2393.000000</td>\n",
       "      <td>2399.000000</td>\n",
       "      <td>2399.000000</td>\n",
       "      <td>2399.000000</td>\n",
       "      <td>2396.000000</td>\n",
       "    </tr>\n",
       "    <tr>\n",
       "      <th>mean</th>\n",
       "      <td>212033.680700</td>\n",
       "      <td>25.213005</td>\n",
       "      <td>69.115048</td>\n",
       "      <td>74.115048</td>\n",
       "      <td>5980.873016</td>\n",
       "      <td>24.178825</td>\n",
       "      <td>1.308497</td>\n",
       "      <td>2.469703</td>\n",
       "      <td>2016.145894</td>\n",
       "      <td>5.955300</td>\n",
       "      <td>166.802782</td>\n",
       "      <td>10690.033498</td>\n",
       "    </tr>\n",
       "    <tr>\n",
       "      <th>std</th>\n",
       "      <td>30549.399068</td>\n",
       "      <td>4.633622</td>\n",
       "      <td>8.060195</td>\n",
       "      <td>7.190957</td>\n",
       "      <td>11963.420681</td>\n",
       "      <td>49.552098</td>\n",
       "      <td>0.687175</td>\n",
       "      <td>0.844531</td>\n",
       "      <td>2.085829</td>\n",
       "      <td>0.219249</td>\n",
       "      <td>15.241015</td>\n",
       "      <td>21780.029323</td>\n",
       "    </tr>\n",
       "    <tr>\n",
       "      <th>min</th>\n",
       "      <td>1179.000000</td>\n",
       "      <td>16.000000</td>\n",
       "      <td>47.000000</td>\n",
       "      <td>48.000000</td>\n",
       "      <td>20.000000</td>\n",
       "      <td>0.000000</td>\n",
       "      <td>1.000000</td>\n",
       "      <td>1.000000</td>\n",
       "      <td>2000.000000</td>\n",
       "      <td>5.250000</td>\n",
       "      <td>121.000000</td>\n",
       "      <td>35.000000</td>\n",
       "    </tr>\n",
       "    <tr>\n",
       "      <th>25%</th>\n",
       "      <td>195105.000000</td>\n",
       "      <td>22.000000</td>\n",
       "      <td>64.000000</td>\n",
       "      <td>69.000000</td>\n",
       "      <td>500.000000</td>\n",
       "      <td>1.000000</td>\n",
       "      <td>1.000000</td>\n",
       "      <td>2.000000</td>\n",
       "      <td>2016.000000</td>\n",
       "      <td>5.833333</td>\n",
       "      <td>154.000000</td>\n",
       "      <td>1100.000000</td>\n",
       "    </tr>\n",
       "    <tr>\n",
       "      <th>50%</th>\n",
       "      <td>218745.000000</td>\n",
       "      <td>25.000000</td>\n",
       "      <td>69.000000</td>\n",
       "      <td>74.000000</td>\n",
       "      <td>1100.000000</td>\n",
       "      <td>5.000000</td>\n",
       "      <td>1.000000</td>\n",
       "      <td>2.000000</td>\n",
       "      <td>2017.000000</td>\n",
       "      <td>6.000000</td>\n",
       "      <td>165.000000</td>\n",
       "      <td>3800.000000</td>\n",
       "    </tr>\n",
       "    <tr>\n",
       "      <th>75%</th>\n",
       "      <td>234576.000000</td>\n",
       "      <td>29.000000</td>\n",
       "      <td>74.000000</td>\n",
       "      <td>79.000000</td>\n",
       "      <td>6000.000000</td>\n",
       "      <td>22.000000</td>\n",
       "      <td>1.000000</td>\n",
       "      <td>3.000000</td>\n",
       "      <td>2018.000000</td>\n",
       "      <td>6.083333</td>\n",
       "      <td>176.000000</td>\n",
       "      <td>7500.000000</td>\n",
       "    </tr>\n",
       "    <tr>\n",
       "      <th>max</th>\n",
       "      <td>246608.000000</td>\n",
       "      <td>44.000000</td>\n",
       "      <td>94.000000</td>\n",
       "      <td>95.000000</td>\n",
       "      <td>118500.000000</td>\n",
       "      <td>565.000000</td>\n",
       "      <td>5.000000</td>\n",
       "      <td>5.000000</td>\n",
       "      <td>2018.000000</td>\n",
       "      <td>6.583333</td>\n",
       "      <td>214.000000</td>\n",
       "      <td>228100.000000</td>\n",
       "    </tr>\n",
       "  </tbody>\n",
       "</table>\n",
       "</div>"
      ],
      "text/plain": [
       "                  ID          Age      Overall    Potential          Value  \\\n",
       "count    2399.000000  2399.000000  2399.000000  2399.000000    2142.000000   \n",
       "mean   212033.680700    25.213005    69.115048    74.115048    5980.873016   \n",
       "std     30549.399068     4.633622     8.060195     7.190957   11963.420681   \n",
       "min      1179.000000    16.000000    47.000000    48.000000      20.000000   \n",
       "25%    195105.000000    22.000000    64.000000    69.000000     500.000000   \n",
       "50%    218745.000000    25.000000    69.000000    74.000000    1100.000000   \n",
       "75%    234576.000000    29.000000    74.000000    79.000000    6000.000000   \n",
       "max    246608.000000    44.000000    94.000000    95.000000  118500.000000   \n",
       "\n",
       "              Wage  International Reputation  Skill Moves       Joined  \\\n",
       "count  2399.000000               2389.000000  2393.000000  2399.000000   \n",
       "mean     24.178825                  1.308497     2.469703  2016.145894   \n",
       "std      49.552098                  0.687175     0.844531     2.085829   \n",
       "min       0.000000                  1.000000     1.000000  2000.000000   \n",
       "25%       1.000000                  1.000000     2.000000  2016.000000   \n",
       "50%       5.000000                  1.000000     2.000000  2017.000000   \n",
       "75%      22.000000                  1.000000     3.000000  2018.000000   \n",
       "max     565.000000                  5.000000     5.000000  2018.000000   \n",
       "\n",
       "            Height       Weight  Release Clause  \n",
       "count  2399.000000  2399.000000     2396.000000  \n",
       "mean      5.955300   166.802782    10690.033498  \n",
       "std       0.219249    15.241015    21780.029323  \n",
       "min       5.250000   121.000000       35.000000  \n",
       "25%       5.833333   154.000000     1100.000000  \n",
       "50%       6.000000   165.000000     3800.000000  \n",
       "75%       6.083333   176.000000     7500.000000  \n",
       "max       6.583333   214.000000   228100.000000  "
      ]
     },
     "execution_count": 207,
     "metadata": {},
     "output_type": "execute_result"
    }
   ],
   "source": [
    "df.describe()"
   ]
  },
  {
   "cell_type": "code",
   "execution_count": 209,
   "id": "3c90df27-89a7-48c9-bb37-b81875a5bea7",
   "metadata": {},
   "outputs": [
    {
     "data": {
      "text/plain": [
       "ID                            0\n",
       "Name                          0\n",
       "Age                           0\n",
       "Nationality                   7\n",
       "Overall                       0\n",
       "Potential                     0\n",
       "Club                        241\n",
       "Value                       257\n",
       "Wage                          0\n",
       "Preferred Foot                0\n",
       "International Reputation     10\n",
       "Skill Moves                   6\n",
       "Position                     21\n",
       "Joined                        0\n",
       "Contract Valid Until        273\n",
       "Height                        0\n",
       "Weight                        0\n",
       "Release Clause                3\n",
       "dtype: int64"
      ]
     },
     "execution_count": 209,
     "metadata": {},
     "output_type": "execute_result"
    }
   ],
   "source": [
    "df.isna().sum()"
   ]
  },
  {
   "cell_type": "code",
   "execution_count": 210,
   "id": "d5d357f3-f806-46cc-b433-627031dc72bd",
   "metadata": {},
   "outputs": [
    {
     "data": {
      "text/plain": [
       "ID                           0.000000\n",
       "Name                         0.000000\n",
       "Age                          0.000000\n",
       "Nationality                  0.291788\n",
       "Overall                      0.000000\n",
       "Potential                    0.000000\n",
       "Club                        10.045852\n",
       "Value                       10.712797\n",
       "Wage                         0.000000\n",
       "Preferred Foot               0.000000\n",
       "International Reputation     0.416840\n",
       "Skill Moves                  0.250104\n",
       "Position                     0.875365\n",
       "Joined                       0.000000\n",
       "Contract Valid Until        11.379742\n",
       "Height                       0.000000\n",
       "Weight                       0.000000\n",
       "Release Clause               0.125052\n",
       "dtype: float64"
      ]
     },
     "execution_count": 210,
     "metadata": {},
     "output_type": "execute_result"
    }
   ],
   "source": [
    "df_1 = df.isna().sum() / len(df) * 100\n",
    "df_1"
   ]
  },
  {
   "cell_type": "markdown",
   "id": "53aaa563-241b-48d9-ab3b-3710ee1139f2",
   "metadata": {},
   "source": [
    "Отобразим на графике количество пропусков"
   ]
  },
  {
   "cell_type": "code",
   "execution_count": 211,
   "id": "456ccbcb-f1b2-44ca-aa75-13c0bc9623e1",
   "metadata": {},
   "outputs": [
    {
     "data": {
      "image/png": "[encoded data removed]",
      "text/plain": [
       "<Figure size 1000x600 with 1 Axes>"
      ]
     },
     "metadata": {},
     "output_type": "display_data"
    }
   ],
   "source": [
    "# Подсчет количества пропусков в каждой колонке\n",
    "missing_values = df.isnull().sum()\n",
    "\n",
    "# Создание графика\n",
    "plt.figure(figsize=(10, 6))\n",
    "plt.bar(missing_values.index, missing_values.values)\n",
    "plt.xlabel('Колонки')\n",
    "plt.ylabel('Количество пропусков')\n",
    "plt.title('Количество пропусков в колонках')\n",
    "plt.xticks(rotation=90)\n",
    "plt.show();"
   ]
  },
  {
   "cell_type": "markdown",
   "id": "4560585d-c20c-43da-bdc5-a34af4abdac4",
   "metadata": {},
   "source": [
    "Как видно из графика, колонки Nationality, Сlub, Value, International Reputation, Skill Moves, Position, Contract Valid Until, Release Clause имеют пропущенные значения. Для решения данной проблемы, колонки с пустыми значениями нужно либо удалить, либо заполнить недостающими данными. В нашем случае сделаем заполнение пропусков."
   ]
  },
  {
   "cell_type": "code",
   "execution_count": 212,
   "id": "cbfc9fc1-7dca-4f6d-9e3f-d4647922b3b5",
   "metadata": {},
   "outputs": [],
   "source": [
    "df['Nationality'] = df['Nationality'].fillna('missing')"
   ]
  },
  {
   "cell_type": "code",
   "execution_count": 213,
   "id": "07a29fd5-0b4a-41a1-ad3d-fb4191b32066",
   "metadata": {},
   "outputs": [],
   "source": [
    "df['Club'] = df['Club'].fillna('missing')"
   ]
  },
  {
   "cell_type": "code",
   "execution_count": 214,
   "id": "8395f40c-c955-43e5-bb31-768dbe871c75",
   "metadata": {},
   "outputs": [],
   "source": [
    "df['Position'] = df['Position'].fillna('missing')"
   ]
  },
  {
   "cell_type": "code",
   "execution_count": 215,
   "id": "642df255-4b3d-4320-bff3-b2318d2f30d5",
   "metadata": {},
   "outputs": [],
   "source": [
    "df['Contract Valid Until'] = df['Contract Valid Until'].fillna('missing')"
   ]
  },
  {
   "cell_type": "markdown",
   "id": "4ea9ab0d-ddce-45ff-966e-2e90368aba4f",
   "metadata": {},
   "source": [
    "В колонках с числовыми данными, пропуски заполним медианныими значениями"
   ]
  },
  {
   "cell_type": "code",
   "execution_count": 216,
   "id": "a8bc1cce-3885-4c44-852b-62dc96889a24",
   "metadata": {},
   "outputs": [],
   "source": [
    "df['Value'] = df['Value'].fillna(df['Value'].median())"
   ]
  },
  {
   "cell_type": "code",
   "execution_count": 217,
   "id": "a130499c-0c23-49f4-8e1a-e30618fabb95",
   "metadata": {},
   "outputs": [],
   "source": [
    "df['International Reputation'] = df['International Reputation'].fillna(df['International Reputation'].median())"
   ]
  },
  {
   "cell_type": "code",
   "execution_count": 218,
   "id": "8723201a-3459-464a-83f0-fedb02f44755",
   "metadata": {},
   "outputs": [],
   "source": [
    "df['Skill Moves'] = df['Skill Moves'].fillna(df['Skill Moves'].median())"
   ]
  },
  {
   "cell_type": "code",
   "execution_count": 219,
   "id": "f6366720-782d-46fc-a01f-79e1f6e41133",
   "metadata": {},
   "outputs": [],
   "source": [
    "df['Release Clause'] = df['Release Clause'].fillna(df['Release Clause'].median())"
   ]
  },
  {
   "cell_type": "code",
   "execution_count": 220,
   "id": "2638986d-2c05-4d27-bd7a-69f7efc982ca",
   "metadata": {},
   "outputs": [
    {
     "data": {
      "text/plain": [
       "ID                          0\n",
       "Name                        0\n",
       "Age                         0\n",
       "Nationality                 0\n",
       "Overall                     0\n",
       "Potential                   0\n",
       "Club                        0\n",
       "Value                       0\n",
       "Wage                        0\n",
       "Preferred Foot              0\n",
       "International Reputation    0\n",
       "Skill Moves                 0\n",
       "Position                    0\n",
       "Joined                      0\n",
       "Contract Valid Until        0\n",
       "Height                      0\n",
       "Weight                      0\n",
       "Release Clause              0\n",
       "dtype: int64"
      ]
     },
     "execution_count": 220,
     "metadata": {},
     "output_type": "execute_result"
    }
   ],
   "source": [
    "df.isna().sum()"
   ]
  },
  {
   "cell_type": "markdown",
   "id": "24b79eca-51f8-410f-b8de-44ba3fcbe5f6",
   "metadata": {},
   "source": [
    "Как видно, все пропуски заполнены"
   ]
  },
  {
   "cell_type": "markdown",
   "id": "ea18e8a1-f720-4097-944e-7c4a5edbf2f0",
   "metadata": {},
   "source": [
    "## 2. Найдите в датафрейме полные дубликаты и удалите их. Значения могут быть одинаковыми, но написаны по-разному. Например, может отличаться размер регистра (заглавные и строчные буквы). Особое внимание уделить колонке с названиями команд."
   ]
  },
  {
   "cell_type": "code",
   "execution_count": 221,
   "id": "8ca01202-509c-486f-b0d7-ccca222610d0",
   "metadata": {},
   "outputs": [
    {
     "data": {
      "text/plain": [
       "0"
      ]
     },
     "execution_count": 221,
     "metadata": {},
     "output_type": "execute_result"
    }
   ],
   "source": [
    "df.duplicated().sum()"
   ]
  },
  {
   "cell_type": "code",
   "execution_count": 222,
   "id": "9a304af2-3924-4623-aadc-51cdf3444bba",
   "metadata": {},
   "outputs": [
    {
     "data": {
      "text/plain": [
       "array(['Paris Saint-Germain', 'FC Porto', 'CD Aves', 'FC Bayern München',\n",
       "       'Cambridge United', 'CD Tondela', 'Juventus', 'Milan', 'Celtic',\n",
       "       'BSC Young Boys', 'Malmö FF', 'Lazio', 'Arsenal', '1. FC Köln',\n",
       "       'Bury', 'Roma', 'Carlisle United', 'Manchester United',\n",
       "       'Burton Albion', 'Inter', 'Chelsea', 'Cagliari', 'Cádiz CF',\n",
       "       'AS Monaco', '1. FSV Mainz 05', 'Burnley', 'Manchester City',\n",
       "       'CD Nacional', 'Bristol City', \"CD O'Higgins\", 'CD Palestino',\n",
       "       'Brescia', '1. FC Kaiserslautern', 'Brisbane Roar', 'Liverpool',\n",
       "       'CD Feirense', 'Aston Villa', 'missing', 'Cardiff City',\n",
       "       'CF Rayo Majadahonda', 'CD Tenerife',\n",
       "       'CD Universidad de Concepción', 'Atalanta',\n",
       "       'Borussia Mönchengladbach', 'Brighton & Hove Albion', 'CD Lugo',\n",
       "       'CD Numancia', 'Sevilla FC', 'CD Leganés', 'CA Osasuna',\n",
       "       'Lokomotiv Moscow', 'Bayer 04 Leverkusen', 'FC Barcelona',\n",
       "       'Real Madrid', 'Central Coast Mariners', 'Cerezo Osaka',\n",
       "       'Charlton Athletic', '1. FC Union Berlin', 'Udinese',\n",
       "       'Changchun Yatai FC', 'Bristol Rovers', 'FC Basel 1893',\n",
       "       'Fc Barcelona', '1. FC Magdeburg', 'Córdoba CF', 'Livingston FC',\n",
       "       'CF Reus Deportiu', 'Borussia Dortmund', 'CD Huachipato',\n",
       "       '1. FC Heidenheim 1846', '1. FC Nürnberg', 'Bursaspor',\n",
       "       'Chamois Niortais Football Club', 'Carpi', 'CD Antofagasta',\n",
       "       'AS Béziers', 'CD Everton de Viña del Mar', 'FC Heidenheim 1846',\n",
       "       'Aalborg BK', 'Ceará Sporting Club', 'Chapecoense', 'FC Köln'],\n",
       "      dtype=object)"
      ]
     },
     "execution_count": 222,
     "metadata": {},
     "output_type": "execute_result"
    }
   ],
   "source": [
    "df.Club.unique()"
   ]
  },
  {
   "cell_type": "code",
   "execution_count": 223,
   "id": "8676a92b-04f7-45ee-b751-0fbed4f0b4c9",
   "metadata": {},
   "outputs": [
    {
     "data": {
      "text/plain": [
       "array(['paris saint-germain', 'fc porto', 'cd aves', 'fc bayern münchen',\n",
       "       'cambridge united', 'cd tondela', 'juventus', 'milan', 'celtic',\n",
       "       'bsc young boys', 'malmö ff', 'lazio', 'arsenal', '1. fc köln',\n",
       "       'bury', 'roma', 'carlisle united', 'manchester united',\n",
       "       'burton albion', 'inter', 'chelsea', 'cagliari', 'cádiz cf',\n",
       "       'as monaco', '1. fsv mainz 05', 'burnley', 'manchester city',\n",
       "       'cd nacional', 'bristol city', \"cd o'higgins\", 'cd palestino',\n",
       "       'brescia', '1. fc kaiserslautern', 'brisbane roar', 'liverpool',\n",
       "       'cd feirense', 'aston villa', 'missing', 'cardiff city',\n",
       "       'cf rayo majadahonda', 'cd tenerife',\n",
       "       'cd universidad de concepción', 'atalanta',\n",
       "       'borussia mönchengladbach', 'brighton & hove albion', 'cd lugo',\n",
       "       'cd numancia', 'sevilla fc', 'cd leganés', 'ca osasuna',\n",
       "       'lokomotiv moscow', 'bayer 04 leverkusen', 'fc barcelona',\n",
       "       'real madrid', 'central coast mariners', 'cerezo osaka',\n",
       "       'charlton athletic', '1. fc union berlin', 'udinese',\n",
       "       'changchun yatai fc', 'bristol rovers', 'fc basel 1893',\n",
       "       '1. fc magdeburg', 'córdoba cf', 'livingston fc',\n",
       "       'cf reus deportiu', 'borussia dortmund', 'cd huachipato',\n",
       "       '1. fc heidenheim 1846', '1. fc nürnberg', 'bursaspor',\n",
       "       'chamois niortais football club', 'carpi', 'cd antofagasta',\n",
       "       'as béziers', 'cd everton de viña del mar', 'fc heidenheim 1846',\n",
       "       'aalborg bk', 'ceará sporting club', 'chapecoense', 'fc köln'],\n",
       "      dtype=object)"
      ]
     },
     "execution_count": 223,
     "metadata": {},
     "output_type": "execute_result"
    }
   ],
   "source": [
    "df['Club'] = df['Club'].str.lower()\n",
    "df['Club'].unique()"
   ]
  },
  {
   "cell_type": "code",
   "execution_count": 224,
   "id": "fbffd2f9-4124-4009-9641-8532285dc235",
   "metadata": {},
   "outputs": [
    {
     "data": {
      "text/plain": [
       "2"
      ]
     },
     "execution_count": 224,
     "metadata": {},
     "output_type": "execute_result"
    }
   ],
   "source": [
    "df.duplicated().sum()"
   ]
  },
  {
   "cell_type": "code",
   "execution_count": 225,
   "id": "ec216bc8-c635-4960-82b4-314006f7edb4",
   "metadata": {},
   "outputs": [
    {
     "name": "stdout",
     "output_type": "stream",
     "text": [
      "<class 'pandas.core.frame.DataFrame'>\n",
      "RangeIndex: 2397 entries, 0 to 2396\n",
      "Data columns (total 18 columns):\n",
      " #   Column                    Non-Null Count  Dtype  \n",
      "---  ------                    --------------  -----  \n",
      " 0   ID                        2397 non-null   int64  \n",
      " 1   Name                      2397 non-null   object \n",
      " 2   Age                       2397 non-null   int64  \n",
      " 3   Nationality               2397 non-null   object \n",
      " 4   Overall                   2397 non-null   int64  \n",
      " 5   Potential                 2397 non-null   int64  \n",
      " 6   Club                      2397 non-null   object \n",
      " 7   Value                     2397 non-null   float64\n",
      " 8   Wage                      2397 non-null   int64  \n",
      " 9   Preferred Foot            2397 non-null   object \n",
      " 10  International Reputation  2397 non-null   float64\n",
      " 11  Skill Moves               2397 non-null   float64\n",
      " 12  Position                  2397 non-null   object \n",
      " 13  Joined                    2397 non-null   int64  \n",
      " 14  Contract Valid Until      2397 non-null   object \n",
      " 15  Height                    2397 non-null   float64\n",
      " 16  Weight                    2397 non-null   float64\n",
      " 17  Release Clause            2397 non-null   float64\n",
      "dtypes: float64(6), int64(6), object(6)\n",
      "memory usage: 337.2+ KB\n"
     ]
    }
   ],
   "source": [
    "df = df.drop_duplicates().reset_index(drop = True)\n",
    "df.info()"
   ]
  },
  {
   "cell_type": "code",
   "execution_count": 226,
   "id": "6f9f2dd1-b022-4e3b-af1c-ae9cd17b6898",
   "metadata": {},
   "outputs": [
    {
     "data": {
      "text/plain": [
       "0"
      ]
     },
     "execution_count": 226,
     "metadata": {},
     "output_type": "execute_result"
    }
   ],
   "source": [
    "df.duplicated().sum()"
   ]
  },
  {
   "cell_type": "markdown",
   "id": "4bf64210-8e6f-4f90-830b-60a359d33927",
   "metadata": {},
   "source": [
    "Как видно, теперь дубликаты отсутствуют"
   ]
  },
  {
   "cell_type": "markdown",
   "id": "41c4da37-8897-4f30-8d0b-0cac38a28c87",
   "metadata": {},
   "source": [
    "## 3. Напишите функцию, которая добавит колонку с разбиением возраста по группам: до 20, от 20 до 30, от 30 до\n",
    "## 36 и старше 36. Посчитайте количество футболистов в каждой категории."
   ]
  },
  {
   "cell_type": "code",
   "execution_count": 227,
   "id": "e5a79f40-079b-43fc-9081-0ac876908c5e",
   "metadata": {},
   "outputs": [],
   "source": [
    "def age_group(Age):\n",
    "    if Age < 20:\n",
    "        return 'до 20'\n",
    "    elif 20 <= Age < 30:\n",
    "        return 'от 20 до 30'\n",
    "    elif 30 <= Age < 36:\n",
    "        return 'от 30 до 36'\n",
    "    elif Age >= 36:\n",
    "        return 'от 36'\n",
    "    else:\n",
    "        'Возраст не определён'"
   ]
  },
  {
   "cell_type": "code",
   "execution_count": 228,
   "id": "e5fb77cb-1e17-4899-b805-6832200e4b5f",
   "metadata": {},
   "outputs": [
    {
     "data": {
      "text/html": [
       "<div>\n",
       "<style scoped>\n",
       "    .dataframe tbody tr th:only-of-type {\n",
       "        vertical-align: middle;\n",
       "    }\n",
       "\n",
       "    .dataframe tbody tr th {\n",
       "        vertical-align: top;\n",
       "    }\n",
       "\n",
       "    .dataframe thead th {\n",
       "        text-align: right;\n",
       "    }\n",
       "</style>\n",
       "<table border=\"1\" class=\"dataframe\">\n",
       "  <thead>\n",
       "    <tr style=\"text-align: right;\">\n",
       "      <th></th>\n",
       "      <th>ID</th>\n",
       "      <th>Name</th>\n",
       "      <th>Age</th>\n",
       "      <th>Nationality</th>\n",
       "      <th>Overall</th>\n",
       "      <th>Potential</th>\n",
       "      <th>Club</th>\n",
       "      <th>Value</th>\n",
       "      <th>Wage</th>\n",
       "      <th>Preferred Foot</th>\n",
       "      <th>International Reputation</th>\n",
       "      <th>Skill Moves</th>\n",
       "      <th>Position</th>\n",
       "      <th>Joined</th>\n",
       "      <th>Contract Valid Until</th>\n",
       "      <th>Height</th>\n",
       "      <th>Weight</th>\n",
       "      <th>Release Clause</th>\n",
       "      <th>Age_group</th>\n",
       "    </tr>\n",
       "  </thead>\n",
       "  <tbody>\n",
       "    <tr>\n",
       "      <th>0</th>\n",
       "      <td>1179</td>\n",
       "      <td>G. Buffon</td>\n",
       "      <td>40</td>\n",
       "      <td>Italy</td>\n",
       "      <td>88</td>\n",
       "      <td>88</td>\n",
       "      <td>paris saint-germain</td>\n",
       "      <td>4000.0</td>\n",
       "      <td>77</td>\n",
       "      <td>Right</td>\n",
       "      <td>4.0</td>\n",
       "      <td>1.0</td>\n",
       "      <td>GK</td>\n",
       "      <td>2018</td>\n",
       "      <td>01/01/2019</td>\n",
       "      <td>6.333333</td>\n",
       "      <td>203.0</td>\n",
       "      <td>7400.0</td>\n",
       "      <td>от 36</td>\n",
       "    </tr>\n",
       "    <tr>\n",
       "      <th>1</th>\n",
       "      <td>5479</td>\n",
       "      <td>Casillas</td>\n",
       "      <td>37</td>\n",
       "      <td>Spain</td>\n",
       "      <td>82</td>\n",
       "      <td>82</td>\n",
       "      <td>fc porto</td>\n",
       "      <td>1500.0</td>\n",
       "      <td>10</td>\n",
       "      <td>Left</td>\n",
       "      <td>4.0</td>\n",
       "      <td>1.0</td>\n",
       "      <td>missing</td>\n",
       "      <td>2015</td>\n",
       "      <td>01/01/2019</td>\n",
       "      <td>6.083333</td>\n",
       "      <td>185.0</td>\n",
       "      <td>3000.0</td>\n",
       "      <td>от 36</td>\n",
       "    </tr>\n",
       "    <tr>\n",
       "      <th>2</th>\n",
       "      <td>8205</td>\n",
       "      <td>Braga</td>\n",
       "      <td>35</td>\n",
       "      <td>Portugal</td>\n",
       "      <td>70</td>\n",
       "      <td>70</td>\n",
       "      <td>cd aves</td>\n",
       "      <td>750.0</td>\n",
       "      <td>5</td>\n",
       "      <td>Right</td>\n",
       "      <td>1.0</td>\n",
       "      <td>3.0</td>\n",
       "      <td>LCM</td>\n",
       "      <td>2017</td>\n",
       "      <td>01/01/2019</td>\n",
       "      <td>5.916667</td>\n",
       "      <td>165.0</td>\n",
       "      <td>1600.0</td>\n",
       "      <td>от 30 до 36</td>\n",
       "    </tr>\n",
       "    <tr>\n",
       "      <th>3</th>\n",
       "      <td>9014</td>\n",
       "      <td>A. Robben</td>\n",
       "      <td>34</td>\n",
       "      <td>Netherlands</td>\n",
       "      <td>84</td>\n",
       "      <td>84</td>\n",
       "      <td>fc bayern münchen</td>\n",
       "      <td>15500.0</td>\n",
       "      <td>110</td>\n",
       "      <td>Left</td>\n",
       "      <td>4.0</td>\n",
       "      <td>4.0</td>\n",
       "      <td>RM</td>\n",
       "      <td>2009</td>\n",
       "      <td>01/01/2019</td>\n",
       "      <td>5.916667</td>\n",
       "      <td>176.0</td>\n",
       "      <td>25600.0</td>\n",
       "      <td>от 30 до 36</td>\n",
       "    </tr>\n",
       "    <tr>\n",
       "      <th>4</th>\n",
       "      <td>19521</td>\n",
       "      <td>J. Ibehre</td>\n",
       "      <td>35</td>\n",
       "      <td>England</td>\n",
       "      <td>61</td>\n",
       "      <td>61</td>\n",
       "      <td>cambridge united</td>\n",
       "      <td>120.0</td>\n",
       "      <td>2</td>\n",
       "      <td>Right</td>\n",
       "      <td>1.0</td>\n",
       "      <td>2.0</td>\n",
       "      <td>ST</td>\n",
       "      <td>2017</td>\n",
       "      <td>01/01/2019</td>\n",
       "      <td>6.333333</td>\n",
       "      <td>203.0</td>\n",
       "      <td>210.0</td>\n",
       "      <td>от 30 до 36</td>\n",
       "    </tr>\n",
       "    <tr>\n",
       "      <th>...</th>\n",
       "      <td>...</td>\n",
       "      <td>...</td>\n",
       "      <td>...</td>\n",
       "      <td>...</td>\n",
       "      <td>...</td>\n",
       "      <td>...</td>\n",
       "      <td>...</td>\n",
       "      <td>...</td>\n",
       "      <td>...</td>\n",
       "      <td>...</td>\n",
       "      <td>...</td>\n",
       "      <td>...</td>\n",
       "      <td>...</td>\n",
       "      <td>...</td>\n",
       "      <td>...</td>\n",
       "      <td>...</td>\n",
       "      <td>...</td>\n",
       "      <td>...</td>\n",
       "      <td>...</td>\n",
       "    </tr>\n",
       "    <tr>\n",
       "      <th>2392</th>\n",
       "      <td>246465</td>\n",
       "      <td>Guerrero</td>\n",
       "      <td>16</td>\n",
       "      <td>Spain</td>\n",
       "      <td>63</td>\n",
       "      <td>76</td>\n",
       "      <td>cf rayo majadahonda</td>\n",
       "      <td>625.0</td>\n",
       "      <td>1</td>\n",
       "      <td>Left</td>\n",
       "      <td>1.0</td>\n",
       "      <td>3.0</td>\n",
       "      <td>CM</td>\n",
       "      <td>2018</td>\n",
       "      <td>01/01/2019</td>\n",
       "      <td>5.916667</td>\n",
       "      <td>165.0</td>\n",
       "      <td>1400.0</td>\n",
       "      <td>до 20</td>\n",
       "    </tr>\n",
       "    <tr>\n",
       "      <th>2393</th>\n",
       "      <td>246594</td>\n",
       "      <td>H. Massengo</td>\n",
       "      <td>16</td>\n",
       "      <td>France</td>\n",
       "      <td>62</td>\n",
       "      <td>75</td>\n",
       "      <td>as monaco</td>\n",
       "      <td>450.0</td>\n",
       "      <td>2</td>\n",
       "      <td>Right</td>\n",
       "      <td>1.0</td>\n",
       "      <td>2.0</td>\n",
       "      <td>CDM</td>\n",
       "      <td>2018</td>\n",
       "      <td>01/01/2021</td>\n",
       "      <td>5.833333</td>\n",
       "      <td>146.0</td>\n",
       "      <td>1100.0</td>\n",
       "      <td>до 20</td>\n",
       "    </tr>\n",
       "    <tr>\n",
       "      <th>2394</th>\n",
       "      <td>246599</td>\n",
       "      <td>Guillem Jaime</td>\n",
       "      <td>19</td>\n",
       "      <td>Spain</td>\n",
       "      <td>64</td>\n",
       "      <td>80</td>\n",
       "      <td>fc barcelona</td>\n",
       "      <td>975.0</td>\n",
       "      <td>13</td>\n",
       "      <td>Right</td>\n",
       "      <td>1.0</td>\n",
       "      <td>3.0</td>\n",
       "      <td>RW</td>\n",
       "      <td>2018</td>\n",
       "      <td>01/01/2020</td>\n",
       "      <td>5.833333</td>\n",
       "      <td>154.0</td>\n",
       "      <td>2600.0</td>\n",
       "      <td>до 20</td>\n",
       "    </tr>\n",
       "    <tr>\n",
       "      <th>2395</th>\n",
       "      <td>246606</td>\n",
       "      <td>Fran García</td>\n",
       "      <td>18</td>\n",
       "      <td>Spain</td>\n",
       "      <td>64</td>\n",
       "      <td>79</td>\n",
       "      <td>real madrid</td>\n",
       "      <td>825.0</td>\n",
       "      <td>9</td>\n",
       "      <td>Left</td>\n",
       "      <td>1.0</td>\n",
       "      <td>2.0</td>\n",
       "      <td>LB</td>\n",
       "      <td>2018</td>\n",
       "      <td>01/01/2019</td>\n",
       "      <td>5.583333</td>\n",
       "      <td>139.0</td>\n",
       "      <td>2200.0</td>\n",
       "      <td>до 20</td>\n",
       "    </tr>\n",
       "    <tr>\n",
       "      <th>2396</th>\n",
       "      <td>246608</td>\n",
       "      <td>Fidalgo</td>\n",
       "      <td>21</td>\n",
       "      <td>Spain</td>\n",
       "      <td>65</td>\n",
       "      <td>75</td>\n",
       "      <td>real madrid</td>\n",
       "      <td>875.0</td>\n",
       "      <td>20</td>\n",
       "      <td>Right</td>\n",
       "      <td>1.0</td>\n",
       "      <td>3.0</td>\n",
       "      <td>CM</td>\n",
       "      <td>2016</td>\n",
       "      <td>01/01/2019</td>\n",
       "      <td>5.750000</td>\n",
       "      <td>150.0</td>\n",
       "      <td>2000.0</td>\n",
       "      <td>от 20 до 30</td>\n",
       "    </tr>\n",
       "  </tbody>\n",
       "</table>\n",
       "<p>2397 rows × 19 columns</p>\n",
       "</div>"
      ],
      "text/plain": [
       "          ID           Name  Age  Nationality  Overall  Potential  \\\n",
       "0       1179      G. Buffon   40        Italy       88         88   \n",
       "1       5479       Casillas   37        Spain       82         82   \n",
       "2       8205          Braga   35     Portugal       70         70   \n",
       "3       9014      A. Robben   34  Netherlands       84         84   \n",
       "4      19521      J. Ibehre   35      England       61         61   \n",
       "...      ...            ...  ...          ...      ...        ...   \n",
       "2392  246465       Guerrero   16        Spain       63         76   \n",
       "2393  246594    H. Massengo   16       France       62         75   \n",
       "2394  246599  Guillem Jaime   19        Spain       64         80   \n",
       "2395  246606    Fran García   18        Spain       64         79   \n",
       "2396  246608        Fidalgo   21        Spain       65         75   \n",
       "\n",
       "                     Club    Value  Wage Preferred Foot  \\\n",
       "0     paris saint-germain   4000.0    77          Right   \n",
       "1                fc porto   1500.0    10           Left   \n",
       "2                 cd aves    750.0     5          Right   \n",
       "3       fc bayern münchen  15500.0   110           Left   \n",
       "4        cambridge united    120.0     2          Right   \n",
       "...                   ...      ...   ...            ...   \n",
       "2392  cf rayo majadahonda    625.0     1           Left   \n",
       "2393            as monaco    450.0     2          Right   \n",
       "2394         fc barcelona    975.0    13          Right   \n",
       "2395          real madrid    825.0     9           Left   \n",
       "2396          real madrid    875.0    20          Right   \n",
       "\n",
       "      International Reputation  Skill Moves Position  Joined  \\\n",
       "0                          4.0          1.0       GK    2018   \n",
       "1                          4.0          1.0  missing    2015   \n",
       "2                          1.0          3.0      LCM    2017   \n",
       "3                          4.0          4.0       RM    2009   \n",
       "4                          1.0          2.0       ST    2017   \n",
       "...                        ...          ...      ...     ...   \n",
       "2392                       1.0          3.0       CM    2018   \n",
       "2393                       1.0          2.0      CDM    2018   \n",
       "2394                       1.0          3.0       RW    2018   \n",
       "2395                       1.0          2.0       LB    2018   \n",
       "2396                       1.0          3.0       CM    2016   \n",
       "\n",
       "     Contract Valid Until    Height  Weight  Release Clause    Age_group  \n",
       "0              01/01/2019  6.333333   203.0          7400.0        от 36  \n",
       "1              01/01/2019  6.083333   185.0          3000.0        от 36  \n",
       "2              01/01/2019  5.916667   165.0          1600.0  от 30 до 36  \n",
       "3              01/01/2019  5.916667   176.0         25600.0  от 30 до 36  \n",
       "4              01/01/2019  6.333333   203.0           210.0  от 30 до 36  \n",
       "...                   ...       ...     ...             ...          ...  \n",
       "2392           01/01/2019  5.916667   165.0          1400.0        до 20  \n",
       "2393           01/01/2021  5.833333   146.0          1100.0        до 20  \n",
       "2394           01/01/2020  5.833333   154.0          2600.0        до 20  \n",
       "2395           01/01/2019  5.583333   139.0          2200.0        до 20  \n",
       "2396           01/01/2019  5.750000   150.0          2000.0  от 20 до 30  \n",
       "\n",
       "[2397 rows x 19 columns]"
      ]
     },
     "execution_count": 228,
     "metadata": {},
     "output_type": "execute_result"
    }
   ],
   "source": [
    "df['Age_group'] = df['Age'].apply(age_group)\n",
    "df"
   ]
  },
  {
   "cell_type": "code",
   "execution_count": 231,
   "id": "d9e2c9dc-1e39-45e2-b101-86d1e30b3a65",
   "metadata": {},
   "outputs": [
    {
     "data": {
      "text/plain": [
       "Age_group\n",
       "от 20 до 30    1646\n",
       "от 30 до 36     458\n",
       "до 20           270\n",
       "от 36            23\n",
       "Name: count, dtype: int64"
      ]
     },
     "execution_count": 231,
     "metadata": {},
     "output_type": "execute_result"
    }
   ],
   "source": [
    "df['Age_group'].value_counts()"
   ]
  },
  {
   "cell_type": "code",
   "execution_count": 238,
   "id": "6a644ef1-4ff8-4e1d-be68-8e5ee15aab47",
   "metadata": {},
   "outputs": [
    {
     "data": {
      "image/png": "[encoded data removed]",
      "text/plain": [
       "<Figure size 1000x800 with 1 Axes>"
      ]
     },
     "metadata": {},
     "output_type": "display_data"
    }
   ],
   "source": [
    "plt.figure(figsize=(10, 8))\n",
    "df['Age_group'].value_counts().plot(kind='pie', autopct='%1.1f%%')\n",
    "\n",
    "plt.title('Распределение футболистов по возрастным группам')\n",
    "plt.ylabel('')\n",
    "plt.axis('equal');"
   ]
  }
 ],
 "metadata": {
  "kernelspec": {
   "display_name": "Python 3 (ipykernel)",
   "language": "python",
   "name": "python3"
  },
  "language_info": {
   "codemirror_mode": {
    "name": "ipython",
    "version": 3
   },
   "file_extension": ".py",
   "mimetype": "text/x-python",
   "name": "python",
   "nbconvert_exporter": "python",
   "pygments_lexer": "ipython3",
   "version": "3.8.0"
  }
 },
 "nbformat": 4,
 "nbformat_minor": 5
}
